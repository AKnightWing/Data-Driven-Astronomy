{
 "cells": [
  {
   "cell_type": "code",
   "execution_count": 1,
   "metadata": {},
   "outputs": [],
   "source": [
    "import numpy as np\n",
    "from astropy.io import fits\n",
    "import matplotlib.pyplot as plt\n",
    "import os"
   ]
  },
  {
   "cell_type": "markdown",
   "metadata": {},
   "source": [
    "# Week 1: Pulsars and Image Stacking"
   ]
  },
  {
   "cell_type": "markdown",
   "metadata": {},
   "source": [
    "After a supernova, a star collapses into a smaller but dense neutron star. By conservation of angular momentum, it’s rotation speed increases after collapse. Also, like the Earth, stars have magnetic fields. And when a star collapses, it takes the fields with it. So, neutron stars would have incredibly intense magnetic fields. Charged particles in the super-hot plasma surrounding a neutron star, would get funneled towards the star's magnetic poles and shot out into space as two intense beams. Putting these two ideas together, a neutron star becomes a bit like a lighthouse, rapidly spinning in space, flashing its energy beams across the universe.\n",
    "\n",
    "Typical MWA(Murchison Widefield Array) Image:\n"
   ]
  },
  {
   "cell_type": "markdown",
   "metadata": {},
   "source": [
    "![Image](https://imgur.com/OTQJxjQ.png)"
   ]
  },
  {
   "cell_type": "markdown",
   "metadata": {},
   "source": [
    "In radio astronomy, flux density is measured in units of Janskys:\n",
    "\n",
    "$\n",
    "1 Jy = 10^{-26} W m^{-2} Hz ^{-1}\n",
    "$"
   ]
  },
  {
   "cell_type": "markdown",
   "metadata": {},
   "source": [
    "![Image](https://imgur.com/024TFNI.png)"
   ]
  },
  {
   "cell_type": "markdown",
   "metadata": {},
   "source": [
    "Some people like to display their images in false color, but remember, radio frequencies don't have color. These color maps are just used to accentuate different aspects of the intensity scale.\n"
   ]
  },
  {
   "cell_type": "markdown",
   "metadata": {},
   "source": [
    "### Detection:\n",
    "Typically, a signal is classified as the destection if the flux density is more than 5 standard deviations higher than the noise in the local region.\n",
    "\n",
    "\n",
    "When we don't detect something, it could be for a whole range of reasons. It could be that the pulsar is too far away, it could be the intrinsic emission isn't strong at these frequencies, or it could be that the emission is intermittent and switched off.\n",
    "\n",
    "Stacking allows us to measure the statistical properties of a population we can't detect.Stacking works because the noise in a radio image is roughly random, with a Gaussian distribution centered on zero. When you add regions of an image that just have noise, the random numbers cancel out. But when you add regions of an image in which there are signals, the signals add together, increasing what we call the signal to noise ratio.\n"
   ]
  },
  {
   "cell_type": "markdown",
   "metadata": {},
   "source": [
    "![Img](https://imgur.com/oN7ZZet.jpg)"
   ]
  },
  {
   "cell_type": "markdown",
   "metadata": {},
   "source": [
    "### Astropy and FITS:\n",
    "One of the most widely used formats for astronomical images is the Flexible Image Transport System. In a FITS file, the image is stored in a numerical array, which we can load into a NumPy array. FITS files also have headers which store metadata about the image.\n",
    "To improve the robustness of this method to outliers, we implement a median stack instead of using the mean. Now, the above methods involved holding all the images in memory at once. This is a bad idea if there are a lot of images.\n",
    "\n",
    "We can instead calculate a running mean, i.e, calculate the mean cumulatively, while holding only one image in memory at a time. This can easily be done for the mean, but not for the median. Instead, we can use an approximation for the median, called the Bin-Approx Algorithm.\n"
   ]
  },
  {
   "cell_type": "markdown",
   "metadata": {},
   "source": [
    "### Bin-Approx Algorithm:\n",
    "The Bin-Approx Algorithm saves even more time and space by only looking for the median within one standard deviation of the mean (see the link if you’d like to know why that works).\n",
    "\n",
    "The full algorithm for a set of N data points is as follows:\n",
    "\n",
    "1) Calculate their mean and standard deviation, μ and σ.\n",
    "\n",
    "2) Set the bounds: minval =  μ − σ and maxval =  μ + σ. Any value >= maxval is ignored\n",
    "\n",
    "3) Set the bin width: width =  2σ/B\n",
    "\n",
    "4) Make an ignore bin for counting value < minval\n",
    "\n",
    "5) Make B bins for counting values in minval and maxval, e.g. the first bin is minval <= value < minval + width\n",
    "\n",
    "6) Count the number of values that fall into each bin\n",
    "\n",
    "7) Sum these counts until total >= (N + 1)/2. Remember to start from the ignore bin.\n",
    "\n",
    "8) Return the midpoint of the bin whose cumulative sum exceeds (N + 1)/2\n"
   ]
  },
  {
   "cell_type": "markdown",
   "metadata": {},
   "source": [
    "![Img](https://imgur.com/EgOmNbr.jpg)"
   ]
  },
  {
   "cell_type": "code",
   "execution_count": 2,
   "metadata": {},
   "outputs": [],
   "source": [
    "# Write your load_fits function here.\n",
    "def load_fits(name):\n",
    "    hdulist = fits.open(name)\n",
    "    data = hdulist[0].data\n",
    "    #Return max index (2d index)\n",
    "    #data.argmax() flattens the array and gives index of max value\n",
    "    #We unravel it using unravel_index()\n",
    "    return np.unravel_index(data.argmax(), data.shape)\n",
    "\n",
    "\n",
    "def plot_fits_image(data):\n",
    "    # Plot the 2D image data\n",
    "    plt.imshow(data.T, cmap=plt.cm.viridis)\n",
    "    plt.colorbar()\n",
    "    plt.show()"
   ]
  },
  {
   "cell_type": "code",
   "execution_count": 3,
   "metadata": {},
   "outputs": [],
   "source": [
    "def running_stats(filenames):\n",
    "    '''Calculates the running mean and stdev for a list of FITS files using Welford's method.'''\n",
    "    n = 0\n",
    "    for filename in filenames:\n",
    "        hdulist = fits.open(filename)\n",
    "        data = hdulist[0].data\n",
    "        if n == 0:\n",
    "            mean = np.zeros_like(data)\n",
    "        s = np.zeros_like(data)\n",
    "        n += 1\n",
    "        delta = data - mean\n",
    "        mean += delta/n\n",
    "        s += delta*(data - mean)\n",
    "        hdulist.close()\n",
    "    s /= n - 1\n",
    "    np.sqrt(s, s)\n",
    "    if n < 2:\n",
    "        return mean, None\n",
    "    else:\n",
    "        return mean, s"
   ]
  },
  {
   "cell_type": "code",
   "execution_count": 4,
   "metadata": {},
   "outputs": [],
   "source": [
    "def bin_approx_median(filenames, B):\n",
    "    N = len(filenames)\n",
    "    mid = (N + 1)/2\n",
    "    mean_arr ,std_arr = running_stats(filenames)\n",
    "    x,y = mean_arr.shape        #To create new arrays, we want shape of image: width x and height y\n",
    "    ignore_bin = np.zeros((x,y))    #Ignore bin is a 2D array identical to image shape, i.e x*y ignore_bins for x*y pixels\n",
    "    bin_arr = np.zeros((x,y,B))         #Apart from ignore bin, each of the x*y pixels will have B bins thus shape (x,y,B)\n",
    "    bin_width_arr = 2*std_arr/B\n",
    "    for name in filenames:\n",
    "        hdulist = fits.open(name)\n",
    "        data = hdulist[0].data\n",
    "        for i in range(x):\n",
    "            for j in range(y):\n",
    "                pixel_val = data[i,j]\n",
    "                mean = mean_arr[i,j]\n",
    "                std = std_arr[i,j]\n",
    "                min_val = mean - std\n",
    "                max_val = mean + std\n",
    "                bin_width = 2*std/B\n",
    "                \n",
    "                if pixel_val < min_val:\n",
    "                    ignore_bin[i,j] +=1\n",
    "                elif pixel_val >= max_val:\n",
    "                    pass\n",
    "                else:\n",
    "                    bin_choice = int((pixel_val - (mean - std))/bin_width)\n",
    "                    bin_arr[i,j,bin_choice]+=1\n",
    "    #We now have bin_arr\n",
    "    median_arr = np.zeros((x,y))\n",
    "    for i in range(x):\n",
    "        for j in range(y):\n",
    "            count = ignore_bin[i, j]\n",
    "            for b, bincount in enumerate(bin_arr[i, j]):\n",
    "                count += bincount\n",
    "                if count >= mid:\n",
    "                    # Stop when the cumulative count exceeds the midpoint\n",
    "                    break\n",
    "            median_arr[i, j] = mean_arr[i, j] - std_arr[i, j] + bin_width_arr[i, j]*(b + 0.5)    \n",
    "    return median_arr"
   ]
  },
  {
   "cell_type": "code",
   "execution_count": 5,
   "metadata": {},
   "outputs": [],
   "source": [
    "median = bin_approx_median([os.path.join(\"Week 1\",'image{}.fits').format(str(i)) for i in range(11)], 4)"
   ]
  },
  {
   "cell_type": "code",
   "execution_count": 6,
   "metadata": {},
   "outputs": [
    {
     "data": {
      "image/png": "[encoded data removed]",
      "text/plain": [
       "<Figure size 432x288 with 2 Axes>"
      ]
     },
     "metadata": {
      "needs_background": "light"
     },
     "output_type": "display_data"
    }
   ],
   "source": [
    "plot_fits_image(median)"
   ]
  },
  {
   "cell_type": "markdown",
   "metadata": {},
   "source": [
    "### Results:\n",
    "\n",
    "We wanted to find how many pulsars were emitting at the radio frequencies detected by the MWA. Initially, our investigation showed that most were not detected. But we decided to use mean (and then later median) stacking to improve our signal to noise ratio and make a statistical detection of the invisible population. Median stacking for a large population took a lot of computation and thus we used the Bin-Approx algorithm to save computational time. After stacking, we were able to successfully detect the pulsar."
   ]
  },
  {
   "cell_type": "markdown",
   "metadata": {},
   "source": [
    "### Further Reading:\n",
    "\n",
    "1) Introduction to Pulsars (from CSIRO, beginner) Hobbs, M. (n.d.). An introduction to pulsars. Retrieved February 14, 2017, from http://www.atnf.csiro.au/outreach/education/everyone/pulsars/index.html\n",
    "\n",
    "2) Pulsar Properties (from NRAO, advanced) National Radio Astronomy Observatory. (2010). Pulsar Properties. Retrieved February 14, 2017, from http://www.cv.nrao.edu/course/astr534/Pulsars.html\n",
    "\n",
    "3) Image stacking to detect quasars White, R. L., Helfand, D. J., Becker, R. H., Glikman, E., & de Vries, W. (2007). Signals from the noise: Image stacking for quasars in the FIRST survey. The Astrophysical Journal, 654(1), 99-114. doi:10.1086/507700\n",
    "\n",
    "4) Stacking of radio images to study faint, high-redshift galaxies\n",
    "Lindroos, L., Knudsen, K., Vlemmings, W., Conway, J., Marti-Vidal, I. (2015). Stacking of large interferometric data sets in the image- and uv-domain - a comparative study. Monthly Notices of the Royal Astronomical Society, 446(4), 3502-3515. doi:10.1093/mnras/stu2344\n",
    "\n",
    "5) Radio visibility stacking to search for Type 1a supernova Hancock, P. P., Gaensler, B. M., & Murphy, T. (2011). Visibility stacking in the quest for type ia supernova radio emission. Astrophysical Journal Letters, 735(2) doi:10.1088/2041-8205/735/2/L35\n",
    "\n",
    "6) Fast Computation of the Median by Successive Binning\n",
    "http://www.stat.cmu.edu/~ryantibs/papers/median.pdf"
   ]
  },
  {
   "cell_type": "markdown",
   "metadata": {},
   "source": [
    "# Week 2: Cross Matching"
   ]
  },
  {
   "cell_type": "markdown",
   "metadata": {},
   "source": [
    "\n",
    "Now say you've carried out two surveys: one in radio bands and another in optical bands. To combine this information together, we need to match the objects in the radio survey with the objects in the optical survey.\n",
    "\n",
    "To do this, we create a catalogue of objects from each survey, and then do a positional cross-match.\n",
    "\n",
    "The process of positional cross-matching seems pretty straightforward, but it doesn't scale well with the size of the catalog."
   ]
  },
  {
   "cell_type": "markdown",
   "metadata": {},
   "source": [
    "When we create a catalog from survey images, we start by extracting a list of sources, galaxies and stars, using source-finding software, say sExtractor. This software runs through the pixels in an image and find peaks that are statistically significant.\n",
    "\n",
    "Then, they group the surrounding pixels and fit a function (called beam/point spread function), which results in a list of objects, each of which has a position, an angular size and an intensity measurement."
   ]
  },
  {
   "cell_type": "markdown",
   "metadata": {},
   "source": [
    "Once we have our catalogues, cross-matching involves searching the second catalogue to find a counterpart for each object in the first catalogue. To do this, we usually search within a given radius, based on the uncertainties in the position.\n",
    "\n",
    "The algorithm can be described as:\n",
    "![Img](https://imgur.com/R3M4Lp9.jpg)\n",
    "\n",
    "The problem with this, however, is that it doesn't scale well since it has $\\mathcal{O}(n^2)$ time complexity."
   ]
  },
  {
   "cell_type": "markdown",
   "metadata": {},
   "source": [
    "In this activity you'll cross-match two catalogues: one from a radio survey, the [AT20G Bright Source Sample (BSS) catalogue](http://cdsarc.u-strasbg.fr/viz-bin/Cat?J/MNRAS/384/775) (radio spectrum) and one from an optical survey, the [SuperCOSMOS all-sky galaxy catalogue](http://ssa.roe.ac.uk/allSky) (visible spectrum).\n",
    "\n",
    "We've chosen one small catalogue (BSS has only 320 objects) and one large one (SuperCOSMOS has about 240 million) to demonstrate the issues you can encounter when implementing cross-matching algorithms.\n",
    "\n",
    "Right ascension is often given in hours-minutes-seconds (HMS) notation, because it was convenient to calculate when a star would appear over the horizon. A full circle in HMS notation is 24 hours, which means 1 hour in HMS notation is equal to 15 degrees. Each hour is split into 60 minutes and each minute into 60 seconds.\n",
    "\n",
    "Declination, on the other hand, is traditionally recorded in degrees-minutes-seconds (DMS) notation. A full circle is 360 degrees, each degree has 60 arcminutes and each arcminute has 60 arcseconds."
   ]
  },
  {
   "cell_type": "markdown",
   "metadata": {},
   "source": [
    "#### Note: arcminutes and minutes are different!\n",
    "The arcminutes and arcseconds in DMS are not the same as the minutes and seconds in HMS! A minute in HMS is equal to 15 arcminutes in DMS and a second is equal to 15 arcseconds.\n",
    "\n"
   ]
  },
  {
   "cell_type": "code",
   "execution_count": 7,
   "metadata": {},
   "outputs": [],
   "source": [
    "def hms2dec(h,m,s):\n",
    "    #Function to convert HMS to decimal degress\n",
    "    tot_hrs = (h + m/60 + s/3600)\n",
    "    deg = 15*tot_hrs #(1 hour in HMS notation is equal to 15 degrees)\n",
    "    return deg\n",
    "\n",
    "def dms2dec(d,m,s):\n",
    "    #Function to convert DMS to decimal degress\n",
    "    if d < 0:\n",
    "        sign = -1\n",
    "    else:\n",
    "        sign = 1\n",
    "    deg = sign*(abs(d) + m/60 + s/3600)\n",
    "    return deg\n"
   ]
  },
  {
   "cell_type": "markdown",
   "metadata": {},
   "source": [
    "To crossmatch two catalogues we need to compare the angular distance between objects on the celestial sphere. We'll calculate angular distance using the [Haversine formula](https://en.wikipedia.org/wiki/Haversine_formula), which is good at avoiding floating point errors when the two points are close together.\n",
    "\n",
    "The formula is as follows:\n",
    "\n",
    "$\n",
    "d = 2\\:\\arcsin \\sqrt{\\sin^2\\frac{\\mid{\\delta_1 - \\delta_2}\\mid}{2}+ \\cos{\\delta_1} \\cos{\\delta_2} \\sin^2\\frac{\\mid{\\alpha_1 - \\alpha_2}\\mid}{2}}\n",
    "$"
   ]
  },
  {
   "cell_type": "code",
   "execution_count": 8,
   "metadata": {},
   "outputs": [],
   "source": [
    "def angular_dist(ra1, dec1, ra2, dec2):\n",
    "    '''\n",
    "    Function takes arguments in decimal degrees and return the distance in decimal degrees.\n",
    "    '''\n",
    "    # Convert to radians\n",
    "    ra1 = np.radians(ra1)\n",
    "    dec1 = np.radians(dec1)\n",
    "    ra2 = np.radians(ra2)\n",
    "    dec2 = np.radians(dec2)\n",
    "\n",
    "    a = np.sin(np.abs(dec1 - dec2)/2)**2\n",
    "    b = np.cos(dec1)*np.cos(dec2)*np.sin(np.abs(ra1 - ra2)/2)**2\n",
    "\n",
    "    angle = 2*np.arcsin(np.sqrt(a + b))\n",
    "    # Convert back to degrees\n",
    "    return np.degrees(angle)"
   ]
  },
  {
   "cell_type": "markdown",
   "metadata": {},
   "source": [
    "### Data\n",
    "Every astronomy catalogue tends to have its own unique format so we'll need to look at how to do this with each one individually.\n",
    "\n",
    "We'll look at the AT20G bright source sample survey first. The raw data we'll be using is the file table2.dat from [this](http://cdsarc.u-strasbg.fr/viz-bin/Cat?J/MNRAS/384/775) page in the VizieR archives, but we'll use the filename bss.dat from now on.\n",
    "\n",
    "Every catalogue in VizieR has a detailed README file that gives you the exact format of each table in the catalogue.\n",
    "\n",
    "The catalogue is organised in fixed-width columns, with the format of the columns being:\n",
    "\n",
    "1: Object catalogue ID number (sometimes with an asterisk)\n",
    "\n",
    "2-4: Right ascension in HMS notation\n",
    "\n",
    "5-7: Declination in DMS notation\n",
    "\n",
    "8-: Other information, including spectral intensities\n",
    "\n",
    "We only need coordinates for crossmatching. "
   ]
  },
  {
   "cell_type": "markdown",
   "metadata": {},
   "source": [
    "The SuperCOSMOS all-sky catalogue is a catalogue of galaxies generated from several visible light surveys.\n",
    "\n",
    "The original data is available on [this](http://ssa.roe.ac.uk/allSky) page in a package called SCOS_XSC_mCl1_B21.5_R20_noStepWedges.csv.gz. Because this catalogue is so large, we've cut it down for these activities. The cut down version of the file will be named super.csv.\n",
    "\n",
    "Aside from the first row, which contains column labels, the format is:\n",
    "\n",
    "1: Right ascension in decimal degrees\n",
    "\n",
    "2: Declination in decimal degrees\n",
    "\n",
    "3: Other data, including magnitude and apparent shape\n",
    "\n"
   ]
  },
  {
   "cell_type": "code",
   "execution_count": 9,
   "metadata": {},
   "outputs": [],
   "source": [
    "'''\n",
    "Each function returns a list of tuples containing the object's ID (an integer) and the coordinates in degrees.\n",
    "The object ID is the row of the object in the catalogue, starting at 1.\n",
    "'''\n",
    "def import_bss():\n",
    "    arr = np.loadtxt(os.path.join(\"Week 2\",'bss.dat'), usecols=range(1, 7))\n",
    "    ls=[]\n",
    "    for i,row in enumerate(arr):\n",
    "        h=row[0]\n",
    "        m1=row[1]\n",
    "        s1=row[2]\n",
    "        ra = hms2dec(h,m1,s1)\n",
    "        d=row[3]\n",
    "        m2=row[4]\n",
    "        s2=row[5]\n",
    "        dec = dms2dec(d,m2,s2)\n",
    "        tup = i+1, ra, dec\n",
    "        ls.append(tup)\n",
    "    return ls\n",
    "\n",
    "def import_super():\n",
    "    arr = np.loadtxt(os.path.join(\"Week 2\",'super.csv'), delimiter=',', skiprows=1, usecols=[0, 1])\n",
    "    ls=[]\n",
    "    for i,row in enumerate(arr):\n",
    "        ra = row[0]\n",
    "        dec = row[1]\n",
    "        tup = i+1, ra, dec\n",
    "        ls.append(tup)\n",
    "    return ls"
   ]
  },
  {
   "cell_type": "code",
   "execution_count": 10,
   "metadata": {},
   "outputs": [],
   "source": [
    "def find_closest(cat,ra,decl):\n",
    "    min_dist = np.inf\n",
    "    min_obj = None\n",
    "    for elem in cat:\n",
    "        obj_id, ra2, decl2 = elem\n",
    "        dist = angular_dist(ra,decl,ra2,decl2)\n",
    "        if dist < min_dist:\n",
    "            min_obj=obj_id\n",
    "            min_dist = dist\n",
    "    return min_obj,min_dist"
   ]
  },
  {
   "cell_type": "code",
   "execution_count": 11,
   "metadata": {},
   "outputs": [],
   "source": [
    "def crossmatch(cat1,cat2,max_dist):\n",
    "    matches=[]\n",
    "    no_matches = []\n",
    "    for elem1 in cat1:\n",
    "        obj_id1,ra1,decl1 = elem1\n",
    "        min_dist = np.inf\n",
    "        min_obj2 = None\n",
    "        for elem2 in cat2:\n",
    "            obj_id2,ra2,decl2 = elem2\n",
    "            dist = angular_dist(ra1,decl1,ra2,decl2)\n",
    "            if dist<min_dist:\n",
    "                min_obj2=obj_id2\n",
    "                min_dist = dist\n",
    "        #Check once loop has finished\n",
    "        if min_dist<max_dist:\n",
    "            append_elem = obj_id1,min_obj2,min_dist\n",
    "            matches.append(append_elem)\n",
    "        else:\n",
    "            no_matches.append(obj_id1)\n",
    "            #Only return obj_id of element from 2nd catalogue\n",
    "    return matches, no_matches"
   ]
  },
  {
   "cell_type": "code",
   "execution_count": 12,
   "metadata": {},
   "outputs": [
    {
     "name": "stdout",
     "output_type": "stream",
     "text": [
      "[(1, 2, 0.00010988610938710059), (2, 4, 0.0007649845967242494), (3, 5, 0.00020863352870707666)]\n",
      "[5, 6, 11]\n",
      "151\n",
      "[(1, 2, 0.00010988610938710059), (2, 4, 0.0007649845967242494), (3, 5, 0.00020863352870707666)]\n",
      "[5, 6, 11]\n",
      "197\n"
     ]
    }
   ],
   "source": [
    "if __name__ == '__main__':\n",
    "    bss_cat = import_bss()\n",
    "    super_cat = import_super()\n",
    "\n",
    "    # First example in the question\n",
    "    max_dist = 40/3600\n",
    "    matches, no_matches = crossmatch(bss_cat, super_cat, max_dist)\n",
    "    print(matches[:3])\n",
    "    print(no_matches[:3])\n",
    "    print(len(no_matches))\n",
    "\n",
    "    # Second example in the question\n",
    "    max_dist = 5/3600\n",
    "    matches, no_matches = crossmatch(bss_cat, super_cat, max_dist)\n",
    "    print(matches[:3])\n",
    "    print(no_matches[:3])\n",
    "    print(len(no_matches))"
   ]
  },
  {
   "cell_type": "markdown",
   "metadata": {},
   "source": [
    "As we saw earlier, this has time complexity of $\\mathcal{O}(n^2)$ if both catalogues have size n, or more generally $\\mathcal{O}(n m)$ if size of each catalogue is n and m, respectively.\n",
    "\n",
    "![Img](https://imgur.com/ksBBl2p.jpg)\n"
   ]
  },
  {
   "cell_type": "markdown",
   "metadata": {},
   "source": [
    "Now, if the galaxies in our second catalog were sorted in order of their Declination, then as soon as we reach a point that's further away from that position, we could break out of our loop. There's no need to cross match our galaxy with anything further away than this.\n",
    "\n",
    "This will roughly improve our computation speed by a factor of 2.\n",
    "\n",
    "For 2 catalogues with a million sources, that would reduce the computation time from 24 days to 12 days. But, we still haven't actually improved the worst case time complexity.\n",
    "\n",
    "Often, we can implement some practical improvements as above, without changing the formal time complexity (Big Oh). What we've done is reduce the constant factors in our time complexy equation. \n",
    "\n",
    "Thus, we can speed up a program by:\n",
    "![TimeComplexityImage](https://imgur.com/7MxtnOM.jpg)"
   ]
  },
  {
   "cell_type": "markdown",
   "metadata": {},
   "source": [
    "### k-d Trees"
   ]
  },
  {
   "cell_type": "markdown",
   "metadata": {},
   "source": [
    "If we use Astropy's inbuilt crossmatching feature, it took only 25 seconds as compared to 12/24 days before. This is done with the help of a data structure called k-d trees, where k is the number of dimensions (2 in this case - ra and decl).\n",
    "\n",
    "To construct a k-d tree, you have to recursively partition the space at the median point each time.\n",
    "\n",
    "Once the tree is constructed, it can be used for fast nearest neighbor searching.\n",
    "\n",
    "The great thing about k-d trees is that the nearest neighbor can be found without having to consider most of the nodes in the tree. For large datasets, the savings are enormous.\n",
    "\n",
    "\n",
    "\n",
    "Creating a k-d tree from an astronomy catalogue works like this:\n",
    "\n",
    "1) Find the object with the median ra (x coord), split the catalogue into objects left and right partitions of this\n",
    "\n",
    "2) Find the objects with the median decl (y coord) in each partition, split the partitions into smaller partitions of objects down and up of these\n",
    "\n",
    "3) Find the objects with median ra (x coord) in each of the partitions, split the partitions into smaller partitions of objects left and right of these\n",
    "\n",
    "4) Repeat 2-3 until each partition only has one object in it\n",
    "\n",
    "This creates a binary tree where each object used to split a partition (a node) links to the two objects that then split the partitions it has created (its children).\n",
    "\n",
    "\n",
    "Once you've made a k-d tree out of a catalogue, finding a match to an object then works like this:\n",
    "\n",
    "1) Calculate the distance from the object to highest level node (the root node), then go to the child node closest (in right ascension) to the object\n",
    "\n",
    "2) Calculate the distance from the object to this child, then go to the child node closest (in declination) to the object\n",
    "\n",
    "3) Calculate the distance from the object to this child, then go to the child node closest (in right ascension) to the object\n",
    "\n",
    "4) Repeat 2-3 until you reach a child node with no further children (a leaf node)\n",
    "\n",
    "5) Find the shortest distance of all distances calculated, this corresponds to the closest object\n"
   ]
  },
  {
   "cell_type": "markdown",
   "metadata": {},
   "source": [
    "#### Some notes:\n",
    "\n",
    "1) A database would be a better way of storing the data. This would avoid using many valuable CPU cycles reading in your input catalog each time.\n",
    "\n",
    "2) To evaluate whether the matches are just chance coincidencesor they have a real, physical association, we could measure the redshift for both objects. If the redshifts are similar, then it's much more likely they're physically associated.\n",
    "\n",
    "3) A statistical analysis could be carried out to calculate the likelihood of a chance coincidence given the spatial density of objects in the two surveys."
   ]
  },
  {
   "cell_type": "markdown",
   "metadata": {},
   "source": [
    "We can improve our original crossmatch by:\n",
    "\n",
    "1) Using numpy functions wherever possible, since they're written in C and Fortran.\n",
    "\n",
    "2) Converting all of cat1,cat2 to radians instead of in the loop when calculating distance."
   ]
  },
  {
   "cell_type": "code",
   "execution_count": 39,
   "metadata": {},
   "outputs": [],
   "source": [
    "# TO BE FILLED\n",
    "# https://groklearning.com/learn/data-driven-astro/module-4/2/\n",
    "# https://groklearning.com/learn/data-driven-astro/module-4/4/"
   ]
  },
  {
   "cell_type": "markdown",
   "metadata": {},
   "source": [
    "Another optimisation:\n",
    "\n",
    "3) Ignore objects in the second catalogue with a declination far from the first catalogue object currently being matched, by: looping through the second catalogue objects in order of declination, rather than ID; and then breaking when the declination of the second catalogue object exceeds the target declination by the maximum radius.\n"
   ]
  },
  {
   "cell_type": "code",
   "execution_count": 41,
   "metadata": {},
   "outputs": [],
   "source": [
    "# TO BE FILLED\n",
    "# https://groklearning.com/learn/data-driven-astro/module-4/6/"
   ]
  },
  {
   "cell_type": "markdown",
   "metadata": {},
   "source": [
    "We can improve on the previous optimisation further: \n",
    "\n",
    "4) Stop the search once it gets past declination of the object to be matched AND (new:) start the search as close as possible to the object. That is: Sort the second catalogue objects by order of declination; then Start the search loop at the first second catalogue object with declination greater than δ − r ; and Finish the search loop at the last second catalogue object with declination less than δ + r.\n",
    "\n",
    "If a list is sorted, it can be much faster to find the index of some element using a binary search, rather than doing comparisons on every element in the list.\n",
    "\n"
   ]
  },
  {
   "cell_type": "code",
   "execution_count": 42,
   "metadata": {},
   "outputs": [],
   "source": [
    "# TO BE FILLED\n",
    "# https://groklearning.com/learn/data-driven-astro/module-4/10/"
   ]
  },
  {
   "cell_type": "markdown",
   "metadata": {},
   "source": [
    "Finally, let us use Astropy:\n",
    "\n",
    "The SkyCoord objects are general purpose sky catalogue storage and manipulation objects in Astropy. They take anything that looks like an array of coordinates as long as you specify the units (here we specify degrees with u.degree) and a reference frame (ICRS is essentially the same as equatorial coordinates. The outputs, closest_id and closest_dists give the matching object's row index in sky_cat2 and the distance to it. closest_dists is the angular distance while closest_dists3d is the 3D distance which we're not concerned with here."
   ]
  },
  {
   "cell_type": "code",
   "execution_count": 45,
   "metadata": {},
   "outputs": [
    {
     "name": "stdout",
     "output_type": "stream",
     "text": [
      "[1 0]\n",
      "[8.65750003 5.        ]\n"
     ]
    }
   ],
   "source": [
    "#ASTROPY CROSSMATCHING EXAMPLE\n",
    "from astropy.coordinates import SkyCoord\n",
    "from astropy import units as u\n",
    "coords1 = [[270, -30], [185, 15]]\n",
    "coords2 = [[185, 20], [280, -30]]\n",
    "sky_cat1 = SkyCoord(coords1*u.degree, frame='icrs')\n",
    "sky_cat2 = SkyCoord(coords2*u.degree, frame='icrs')\n",
    "closest_ids, closest_dists, closest_dists3d = sky_cat1.match_to_catalog_sky(sky_cat2)\n",
    "print(closest_ids)\n",
    "print(closest_dists.value) # Astropy returns distances as Quantity objects. You can convert these to NumPy arrays using: closest_dists.value\n",
    "\n",
    "\n"
   ]
  },
  {
   "cell_type": "code",
   "execution_count": 81,
   "metadata": {},
   "outputs": [
    {
     "name": "stdout",
     "output_type": "stream",
     "text": [
      "matches: [[0, 0, 2.0000000000000036], [2, 2, 1.7420109046547163]]\n",
      "unmatched: [1]\n",
      "time taken: 0.0\n",
      "matches: []\n",
      "unmatched: [0, 1, 2, 3, 4, 5, 6, 7, 8, 9]\n",
      "time taken: 0.03125\n",
      "\n",
      "BSS AND SUPER CAT - Top 3 of each\n",
      "matches: [[0, 1, 0.00010988610938462042], [1, 3, 0.0007649845967243426], [2, 4, 0.00020863352870693826]]\n",
      "unmatched: [5, 174, 176]\n",
      "time taken: 0.0\n"
     ]
    }
   ],
   "source": [
    "# Write your crossmatch function here.\n",
    "import numpy as np\n",
    "from astropy.coordinates import SkyCoord\n",
    "from astropy import units as u\n",
    "from time import process_time\n",
    "\n",
    "def crossmatch(cat1, cat2, max_dist):\n",
    "    '''Input the 2 catalogues and maximum distance threshold'''\n",
    "    t1 = process_time()\n",
    "    matches = []\n",
    "    no_matches = []\n",
    "    sky_cat1 = SkyCoord(cat1*u.degree, frame='icrs')\n",
    "    sky_cat2 = SkyCoord(cat2*u.degree, frame='icrs')\n",
    "    closest_ids, closest_dists, closest_dists3d = sky_cat1.match_to_catalog_sky(sky_cat2)\n",
    "    \n",
    "    for obj_id1, (closest_id2, dist) in enumerate(zip(closest_ids, closest_dists)):\n",
    "        closest_dist = dist.value\n",
    "        # Ignore match if it's outside the maximum radius\n",
    "        if closest_dist > max_dist:\n",
    "            no_matches.append(obj_id1)\n",
    "        else:\n",
    "            matches.append([obj_id1,closest_id2, closest_dist])\n",
    "    t2 = process_time()\n",
    "    return matches, no_matches, t2-t1\n",
    "# You can use this to test your function.\n",
    "# Any code inside this `if` statement will be ignored by the automarker.\n",
    "if __name__ == '__main__':\n",
    "    # The example in the question\n",
    "    cat1 = np.array([[180, 30], [45, 10], [300, -45]])\n",
    "    cat2 = np.array([[180, 32], [55, 10], [302, -44]])\n",
    "    matches, no_matches, time_taken = crossmatch(cat1, cat2, 5)\n",
    "    print('matches:', matches)\n",
    "    print('unmatched:', no_matches)\n",
    "    print('time taken:', time_taken)\n",
    "\n",
    "    # A function to create a random catalogue of size n\n",
    "    def create_cat(n):\n",
    "        ras = np.random.uniform(0, 360, size=(n, 1))\n",
    "        decs = np.random.uniform(-90, 90, size=(n, 1))\n",
    "        return np.hstack((ras, decs))\n",
    "\n",
    "    # Test your function on random inputs\n",
    "    np.random.seed(0)\n",
    "    cat1 = create_cat(10)\n",
    "    cat2 = create_cat(20)\n",
    "    matches, no_matches, time_taken = crossmatch(cat1, cat2, 5)\n",
    "    print('matches:', matches)\n",
    "    print('unmatched:', no_matches)\n",
    "    print('time taken:', time_taken)\n",
    "\n",
    "    print(\"\\nBSS AND SUPER CAT - Top 3 of each\")\n",
    "    matches, no_matches, time_taken = crossmatch(np.array(bss_cat)[:,1:], np.array(super_cat)[:,1:], 5)\n",
    "    print('matches:', matches[:3])\n",
    "    print('unmatched:', no_matches[:3])\n",
    "    print('time taken:', time_taken)"
   ]
  },
  {
   "cell_type": "markdown",
   "metadata": {},
   "source": [
    "### Results:\n",
    "In the above example, nearly all of the radio sources have an optical counterpart, which means they can classified into two different categories.\n",
    "\n",
    "1) Most of the radio galaxies are associated with quasars. This is associated with the central black hole and the energetic accretion disk. The radiation from the accretion disk is so bright that it outshines all of the stars in the galaxy. And therefore, looks just like a bright star, hence the name, quasi-stellar object, or quasar.\n",
    "\n",
    "2) The rest of the radio galaxies sit inside normal galaxies, where there are a cloud of many stars grouped together. This could mean that the supermassive black hole has stopped accreting material. And the radio jets are remnants of past activity.\n",
    "\n",
    "Because we've found optical identifications for most of our radio sources, we can also get redshifts for them. This tells us the distance to each galaxy or quasar.\n",
    "\n",
    "By matching the optical and radio catalogs, we've been able to see the different types of galaxies that can host supermassive black holes and measure the distance to them."
   ]
  },
  {
   "cell_type": "markdown",
   "metadata": {},
   "source": [
    "### Further Reading:\n",
    "\n",
    "If you are interested in learning more about the algorithms behind scientific and astronomical computings, there are a few ways you can start.\n",
    "\n",
    "Firstly, classic textbooks such as numerical recipes that cover loads of interesting techniques such as sorting and Fourier transforms. In fact, it also has a nice section on k-d trees that we've been discussing in this module. Implementing your own version is always a fun way to learn how an algorithm works even if you don't end up using it.\n",
    "\n",
    "Secondly, there are loads of great examples on the SciPy and Astro Pi websites, including astronomy-specific issues such as coordinate systems.\n",
    "\n",
    "And finally, there are an increasing number of papers published in the astronomy community about advanced computing techniques.\n",
    "\n",
    "Here's a couple of papers on probabilistic cross-matching:\n",
    "\n",
    "[Budavati & Szalay (2008)](https://arxiv.org/abs/0707.1611)\n",
    "\n",
    "[Line et al. (2017)](https://arxiv.org/abs/1611.05534) and his [source code](https://github.com/JLBLine/PUMA) for the the cross-matcher."
   ]
  },
  {
   "cell_type": "markdown",
   "metadata": {},
   "source": [
    "# Week 3: Databases and SQL Queries"
   ]
  },
  {
   "cell_type": "markdown",
   "metadata": {},
   "source": [
    "A database is an organised collection of (usually structured) data.\n",
    "\n",
    "The most powerful feature of databases from a scientist's perspective is that you'll only need to declare your query. You don't need to worry about the implementation, the database system takes care of all of that for you. It means you can do your science without issues like scalability getting in your way."
   ]
  },
  {
   "cell_type": "markdown",
   "metadata": {},
   "source": [
    "### Exoplanets and Kepler Mission:\n",
    "\n",
    "Back in the 90s, we were discovering one or two planets a year, on average. Now, thanks particularly to Kepler, hundreds of new planets are being confirmed every year, with thousands more candidates being found."
   ]
  },
  {
   "cell_type": "markdown",
   "metadata": {},
   "source": [
    "Kepler looked for planets using the transit method. When a planet passes in front of its star, it blocks out some of the light, and the telescope detects this brief decrease in brightness. However, the planet's orbital plane has to be aligned just right with the telescope's line of sight, for this to work. And assuming that exoplanets orbital axes are randomly distributed in space, then the geometric probability of a transit is only about half a percent. So to find a lot of planets, you need to observe a lot of stars. \n",
    "\n",
    "When an exoplanet is found, the transit itself is used to characterize the planet. In particular, the transit depth tells you how large the planet is in relation to its host star. But there's a problem, in that the sizes are only relative. An observed transit could be the signature of a big planet orbiting a big star, or small planet orbiting a small star. Either way, you'd observe the same signal. You have to know something about your star to constrain the radius of the planet. To solve this, Kepler has an input catalog, containing information on hundreds of thousands of stars in the telescope's field of view. One of the catalog properties is stellar radius, which is then used to calculate the planetary radius for each detected exoplanet. And in this way, scientists are able to characterize the vast population of exoplanets being discovered."
   ]
  },
  {
   "cell_type": "markdown",
   "metadata": {},
   "source": [
    "### SQL Basics:\n",
    "\n",
    "All queries are written in structured query language. SQL is a declarative programming language, and it works in a different way to the procedural programming languages like Python or C. In declarative languages, you specify what you want to do, rather than how you want to do it.\n",
    "\n",
    "We'll use a subset from the [NASA exoplanet archive](http://exoplanetarchive.ipac.caltech.edu/) as an example.\n",
    "\n",
    "An SQL Query takes one more tables as arguments and returns a new table with the results."
   ]
  },
  {
   "cell_type": "markdown",
   "metadata": {},
   "source": [
    "Example 1: Returns name of planets having kepler_id = 5456651\n",
    "\n",
    "\n",
    "```sql\n",
    "SELECT kepler_name\n",
    "FROM Exoplanet\n",
    "WHERE kepler_id = '5456651';\n",
    "```\n",
    "\n",
    "As you can see, there are three basic parts to an SQL select query. From identifies the table to use as input. Where identifies the rows from that table from which to generate the answer. And select identifies the columns of these rows to be included in the results table.\n",
    "\n",
    "Note that the program doesn't contain any other information. We don't need to worry about how the data are stored or formatted. How the data are read or passed. Or any other issues we might need to consider when writing a Python script.\n"
   ]
  },
  {
   "cell_type": "markdown",
   "metadata": {},
   "source": [
    "This process involves lots of interesting computer science. But the great thing is that as a scientist, you don't need to worry about it unless you actually want to of course.\n",
    "\n",
    "General structure of a query:\n",
    "\n",
    "![](https://imgur.com/iVuNA4s.jpg)"
   ]
  },
  {
   "cell_type": "markdown",
   "metadata": {},
   "source": [
    "Example 2: Returns all features about planets having radius < 0.6*Earth Radius\n",
    "```sql\n",
    "SELECT *\n",
    "FROM Exoplanet\n",
    "WHERE radius < 0.6;\n",
    "```\n",
    "\n",
    "Isolating a sample of planets by their radius for followup study is one way that astronomers can advance this exciting field of extraplanetary science."
   ]
  }
 ],
 "metadata": {
  "kernelspec": {
   "display_name": "Python 3",
   "language": "python",
   "name": "python3"
  },
  "language_info": {
   "codemirror_mode": {
    "name": "ipython",
    "version": 3
   },
   "file_extension": ".py",
   "mimetype": "text/x-python",
   "name": "python",
   "nbconvert_exporter": "python",
   "pygments_lexer": "ipython3",
   "version": "3.7.7"
  },
  "varInspector": {
   "cols": {
    "lenName": 16,
    "lenType": 16,
    "lenVar": 40
   },
   "kernels_config": {
    "python": {
     "delete_cmd_postfix": "",
     "delete_cmd_prefix": "del ",
     "library": "var_list.py",
     "varRefreshCmd": "print(var_dic_list())"
    },
    "r": {
     "delete_cmd_postfix": ") ",
     "delete_cmd_prefix": "rm(",
     "library": "var_list.r",
     "varRefreshCmd": "cat(var_dic_list()) "
    }
   },
   "types_to_exclude": [
    "module",
    "function",
    "builtin_function_or_method",
    "instance",
    "_Feature"
   ],
   "window_display": false
  }
 },
 "nbformat": 4,
 "nbformat_minor": 4
}
